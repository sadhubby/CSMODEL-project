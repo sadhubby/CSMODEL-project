{
 "cells": [
  {
   "cell_type": "markdown",
   "metadata": {},
   "source": [
    "# Group 10 - Project Phase 1\n",
    "This notebook is the work and submission of Group 10 of CSMODEl Section S16. The group's members consist of:\n",
    "* David, Peter Jan B.\n",
    "* De Guzman, Evan Mari B.\n",
    "* Manaois, Kyla Nicole G.\n",
    "* Wangkay, Laurize Jeante G.\n"
   ]
  },
  {
   "cell_type": "markdown",
   "metadata": {},
   "source": [
    "## Brief Description of the Dataset\n",
    "The dataset being used for this study is the Spotify Top-2000s Mega Dataset. This dataset contains the Top 2000 songs in spotify, ranging from the years 1956 to 2019. This dataset has been acquired from Kaggle.com and was produced by the user Sumat Singh"
   ]
  },
  {
   "cell_type": "markdown",
   "metadata": {},
   "source": [
    "### Data Collection Process\n",
    "In collecting the data, the creator of this dataset used a third party website using this link, http://sortyourmusic.playlistmachinery.com/. This third party website uses the Spotify API to extract the data of a certain song and is then collected. The third party website was created by Paul Lamere."
   ]
  },
  {
   "cell_type": "markdown",
   "metadata": {},
   "source": [
    "### Structure of the Dataset\n",
    "The structure of the dataset is quite simple. There exists 1994 observations or rows and there are 15 variables or columns. Each row is an entire set of information of a song, from its title and its artist, to its popularity. Each column represents a certain variable to be discussed further after this section. The only column that has no significance in the dataset is the index column attached with the dataset as to say that the index has no real merit in ranking the song. "
   ]
  },
  {
   "cell_type": "markdown",
   "metadata": {},
   "source": [
    "## Variables in the Dataset \n",
    "- **`Title`**: Name of the track.\n",
    "- **`Artist`**: Name of the artist.\n",
    "- **`Top Genres`**: Genre that the track applies to.\n",
    "- **`Year`**: Release year of the track.\n",
    "- **`Beats per Minute (BPM)`**: Tempo of the song.\n",
    "- **`Energy`**: Energy of the song. A higher value pertains to the song being more energetic.\n",
    "- **`Danceability`**: Danceability of the song. A higher value pertains to how easier it is to dance to a song.\n",
    "- **`Loudness`**: Loudness of the song. A higher value pertains a louder song. \n",
    "- **`Valence`**: The positivity of a song. A higher value pertains to a more positive mood for the song.\n",
    "- **`Length`**: The duration of the song.\n",
    "- **`Acoustic`**: The acoustic value of the song. A higher value pertains that the song was made less electronically. \n",
    "- **`Speechiness`**: The presence of spoken words in the song. A higher value pertains that the song has more spoken words.\n",
    "- **`Popularity`**: The popularity of a song. A higher value pertains to a more popular song."
   ]
  },
  {
   "cell_type": "markdown",
   "metadata": {},
   "source": [
    "## Data Cleaning\n"
   ]
  },
  {
   "cell_type": "markdown",
   "metadata": {},
   "source": [
    "## Exploratory Data Analysis"
   ]
  },
  {
   "cell_type": "markdown",
   "metadata": {},
   "source": [
    "## Research Question"
   ]
  }
 ],
 "metadata": {
  "language_info": {
   "name": "python"
  }
 },
 "nbformat": 4,
 "nbformat_minor": 2
}
